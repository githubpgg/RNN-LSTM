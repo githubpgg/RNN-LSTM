{
 "cells": [
  {
   "cell_type": "markdown",
   "metadata": {},
   "source": [
    "## Stock Price Forecasting Using LSTM"
   ]
  },
  {
   "cell_type": "markdown",
   "metadata": {},
   "source": [
    "#### The purpose of this project is to use LSTM method to predict stock price of Apple Inc.."
   ]
  },
  {
   "cell_type": "code",
   "execution_count": 1,
   "metadata": {},
   "outputs": [],
   "source": [
    "import numpy as np\n",
    "import pandas as pd\n",
    "import random\n",
    "import math\n",
    "from sklearn.metrics import mean_squared_error\n",
    "from sklearn.preprocessing import MinMaxScaler"
   ]
  },
  {
   "cell_type": "code",
   "execution_count": 2,
   "metadata": {},
   "outputs": [],
   "source": [
    "def actf(z): \n",
    "    return 1 / (1 + np.exp(-z))\n",
    "\n",
    "def actfder(z): \n",
    "    return z*(1-z)\n",
    "\n",
    "def acttander(z): \n",
    "    return 1 - z * z"
   ]
  },
  {
   "cell_type": "code",
   "execution_count": 3,
   "metadata": {},
   "outputs": [],
   "source": [
    "class Weights_init:\n",
    "    # initialize gate parameters. neurond is the dimension of cell state, dimensionx is the dimension of input\n",
    "    def __init__(self, neurond, dimensionx):\n",
    "        self.neurond = neurond\n",
    "        self.dimensionx = dimensionx\n",
    "        # dimensionsum is the dimension of concatenate \n",
    "        dimensionsum = dimensionx + neurond\n",
    "        # initialize weights matrices\n",
    "        self.inputweight = np.random.rand(neurond, dimensionsum)*0.2-0.1 #initialize the weights of input gate(i)\n",
    "        self.forgetweight = np.random.rand(neurond, dimensionsum)*0.2-0.1  #initialize the weights of forget gate(f)\n",
    "        self.outputweight = np.random.rand(neurond, dimensionsum)*0.2-0.1 #initialize the weight output gate(o)\n",
    "        self.gateweight = np.random.rand(neurond, dimensionsum)*0.2-0.1 #initialize the weight of Input Modulation gate(g)\n",
    "        # initialize offset terms\n",
    "        self.inputoffset = np.random.rand(neurond)*0.2-0.1  #initialize the offset(bias) of input gate(i)\n",
    "        self.forgetoffset = np.random.rand(neurond)*0.2-0.1  #initialize the offset(bias) of forget gate(f)\n",
    "        self.outputoffset = np.random.rand(neurond)*0.2-0.1  #initialize the offset(bias) of output gate(o)\n",
    "        self.gateoffset = np.random.rand(neurond)*0.2-0.1  #initialize the offset(bias) of input modulation gate(g)\n",
    "        # derivation of loss function about weights and offset terms\n",
    "        self.inputweightder = np.zeros((neurond, dimensionsum)) #initialize the derivarion of weights of input gate(i) to 0\n",
    "        self.forgetweightder = np.zeros((neurond, dimensionsum)) #initialize the derivarion of weights of forget gate(f) to 0\n",
    "        self.outputweightder = np.zeros((neurond, dimensionsum)) #initialize the derivarion of weights of output gate(o) to 0\n",
    "        self.gateweightder = np.zeros((neurond, dimensionsum)) #initialize the derivarion of weights of input modulation gate(g) to 0\n",
    "        self.inputoffsetder = np.zeros(neurond) #initialize the derivarion of offset of input gate(i) to 0\n",
    "        self.forgetoffsetder = np.zeros(neurond) #initialize the derivarion of offset of forget gate(f) to 0\n",
    "        self.outputoffsetder = np.zeros(neurond) #initialize the derivarion of offset of output gate(o) to 0\n",
    "        self.gateoffsetder = np.zeros(neurond) #initialize the derivarion of offset of input modulation gate(g) to 0\n",
    "    # Update weights and offset, alpha is the learning rate\n",
    "    def weight_update(self, alpha):\n",
    "        self.gateweight -= alpha * self.gateweightder\n",
    "        self.inputweight -= alpha * self.inputweightder\n",
    "        self.forgetweight -= alpha * self.forgetweightder\n",
    "        self.outputweight -= alpha * self.outputweightder\n",
    "        self.gateoffset -= alpha * self.gateoffsetder\n",
    "        self.inputoffset -= alpha * self.inputoffsetder\n",
    "        self.forgetoffset -= alpha * self.forgetoffsetder\n",
    "        self.outputoffset -= alpha * self.outputoffsetder\n",
    "        # reset the derivation of weights and offset terms as 0\n",
    "        self.gateweightder = np.zeros_like(self.gateweight)\n",
    "        self.inputweightder = np.zeros_like(self.inputweight) \n",
    "        self.forgetweightder = np.zeros_like(self.forgetweight) \n",
    "        self.outputweightder = np.zeros_like(self.outputweight) \n",
    "        self.gateoffsetder = np.zeros_like(self.gateoffset)\n",
    "        self.inputoffsetder = np.zeros_like(self.inputoffset) \n",
    "        self.forgetoffsetder = np.zeros_like(self.forgetoffset) \n",
    "        self.outputoffsetder = np.zeros_like(self.outputoffset)"
   ]
  },
  {
   "cell_type": "code",
   "execution_count": 4,
   "metadata": {},
   "outputs": [],
   "source": [
    "class Gates_init:\n",
    "    # initialize gate values\n",
    "    def __init__(self, neurond, dimensionx):\n",
    "        self.input = np.zeros(neurond) #initialize all gate values to 0\n",
    "        self.forget = np.zeros(neurond)\n",
    "        self.output = np.zeros(neurond)\n",
    "        self.gate = np.zeros(neurond)\n",
    "        self.neuron = np.zeros(neurond) #initialize the cell state(c) to 0\n",
    "        self.houtput = np.zeros(neurond) #initialize output(h) to 0\n",
    "        self.end_neurond_d = np.zeros_like(self.neuron)\n",
    "        self.end_houput_d = np.zeros_like(self.houtput)"
   ]
  },
  {
   "cell_type": "code",
   "execution_count": 5,
   "metadata": {},
   "outputs": [],
   "source": [
    "class NeuronLstm:\n",
    "    def __init__(self, inputp, instance):\n",
    "        self.inputp = inputp \n",
    "        self.instance = instance \n",
    "        self.connect = None #initialize no concatenate between input and cell state\n",
    "\n",
    "    def forward_pass(self, z, neuron_first = None, houtput_first = None): #forward pass \n",
    "        if neuron_first is None: neuron_first = np.zeros_like(self.instance.neuron) #if neuron_first is the first cell\n",
    "        if houtput_first is None: houtput_first = np.zeros_like(self.instance.houtput) #if houtput_first is the first output\n",
    "        self.neuron_first = neuron_first #store the data\n",
    "        self.houtput_first = houtput_first\n",
    "\n",
    "        connect = np.hstack((z,  houtput_first)) # concatenate the input z and the previous output\n",
    "        self.instance.input = actf(np.dot(self.inputp.inputweight, connect) + self.inputp.inputoffset) #calculate input gate value\n",
    "        self.instance.forget = actf(np.dot(self.inputp.forgetweight, connect) + self.inputp.forgetoffset) #calculate forget gate value\n",
    "        self.instance.output = actf(np.dot(self.inputp.outputweight, connect) + self.inputp.outputoffset) #calculate output gate value\n",
    "        self.instance.gate = np.tanh(np.dot(self.inputp.gateweight, connect) + self.inputp.gateoffset) #calculate gate gate value \n",
    "        self.instance.neuron = self.instance.gate * self.instance.input + neuron_first * self.instance.forget #calculate internal state\n",
    "        self.instance.houtput = self.instance.neuron * self.instance.output #store the output h(t)=c(t)*o(t)\n",
    "\n",
    "        self.connect = connect #store the concatenate of input and internal state\n",
    "    \n",
    "    def back_prop(self, secondhc, seconddc): #backpropagation through time to update parameters(W, b)\n",
    "        dc = self.instance.output * secondhc + seconddc\n",
    "\n",
    "\n",
    "        # derivation  of the input\n",
    "        self.inputp.inputweightder += np.outer(actfder(self.instance.input) * self.instance.gate * dc, self.connect) #derivation of input gate weight(Wi)=(dlt/dh + dL(t+1)/dh)*(dh/ds)*(ds/di)*(di/dWi)\n",
    "        self.inputp.forgetweightder += np.outer(actfder(self.instance.forget) * self.neuron_first * dc, self.connect) #derivation of forget gate weight(Wf)=(dlt/dh + dL(t+1)/dh)*(dh/ds)*(ds/df)*(df/dWf)\n",
    "        self.inputp.outputweightder += np.outer(actfder(self.instance.output) * self.instance.neuron * secondhc, self.connect)#derivation of output gate weight(Wo)=(dlt/dh + dL(t+1)/dh)*(dh/do)*(do/dWo)\n",
    "        self.inputp.gateweightder += np.outer(acttander(self.instance.gate) * self.instance.input * dc, self.connect)#derivation of gate gate weight(Wg)=(dlt/dh + dL(t+1)/dh)*(dh/ds)*(ds/dg)*(dg/dWg)\n",
    "        self.inputp.inputoffsetder += actfder(self.instance.input) * self.instance.gate * dc #derivation of input gate offset(bi)=(dlt/dh + dL(t+1)/dh)*(dh/ds)*(ds/di)*(di/dbi)\n",
    "        self.inputp.forgetoffsetder += actfder(self.instance.forget) * self.neuron_first * dc #derivation of forget gate weight(Wf)=(dlt/dh + dL(t+1)/dh)*(dh/ds)*(ds/df)*(df/dbf)      \n",
    "        self.inputp.outputoffsetder += actfder(self.instance.output) * self.instance.neuron * secondhc #derivation of output gate offset(Wo)=(dlt/dh + dL(t+1)/dh)*(dh/do)*(do/dbo)\n",
    "        self.inputp.gateoffsetder += acttander(self.instance.gate) * self.instance.input * dc #derivation of gate gate weight(Wg)=(dlt/dh + dL(t+1)/dh)*(dh/ds)*(ds/dg)*(dg/dbg)\n",
    "\n",
    "        # calculate the next derivation\n",
    "        connectder = np.zeros_like(self.connect)\n",
    "        connectder += np.dot(self.inputp.inputweight.T, actfder(self.instance.input) * self.instance.gate * dc )\n",
    "        connectder += np.dot(self.inputp.forgetweight.T, actfder(self.instance.forget) * self.neuron_first * dc )\n",
    "        connectder += np.dot(self.inputp.outputweight.T, actfder(self.instance.output) * self.instance.neuron * secondhc)\n",
    "        connectder += np.dot(self.inputp.gateweight.T, acttander(self.instance.gate) * self.instance.input * dc)\n",
    "\n",
    "        # save all derivation values\n",
    "        self.instance.end_neuron_d = dc * self.instance.forget\n",
    "        self.instance.end_houtput_d = connectder[self.inputp.dimensionx:]\n"
   ]
  },
  {
   "cell_type": "code",
   "execution_count": 6,
   "metadata": {},
   "outputs": [],
   "source": [
    "class Lstm(): #do forward pass\n",
    "    def __init__(self, coefficient):\n",
    "        self.coefficient = coefficient\n",
    "        self.vectorlstm = []\n",
    "        self.vectorin = [] #initialize the input as a empty vector\n",
    "\n",
    "    def deficit_fun(self, vectorout, deficit_level):\n",
    "        assert len(vectorout) == len(self.vectorin)\n",
    "        length = len(self.vectorin) - 1  # assign time steps\n",
    "        deficit = deficit_level.deficit(self.vectorlstm[length].instance.houtput, vectorout[length]) #calculate loss value of the last step\n",
    "        houtputdif = deficit_level.end_d(self.vectorlstm[length].instance.houtput, vectorout[length]) #derivation of loss with respect to output of the last step\n",
    "        neurondif = np.zeros(self.coefficient.neurond) #derivation of loss with respect to cell of the last step which is 0\n",
    "        self.vectorlstm[length].back_prop(houtputdif, neurondif) #update the parameters of last step\n",
    "        length -= 1\n",
    "\n",
    "        while length >= 0: #update the parameters of t-1 steps\n",
    "            deficit += deficit_level.deficit(self.vectorlstm[length].instance.houtput, vectorout[length])\n",
    "            houtputdif = deficit_level.end_d(self.vectorlstm[length].instance.houtput, vectorout[length])\n",
    "            houtputdif += self.vectorlstm[length + 1].instance.end_houtput_d\n",
    "            neurondif = self.vectorlstm[length + 1].instance.end_neuron_d\n",
    "            self.vectorlstm[length].back_prop(houtputdif, neurondif)\n",
    "            length -= 1 \n",
    "\n",
    "        return deficit\n",
    "\n",
    "    def vectorin_empty(self):\n",
    "        self.vectorin = []\n",
    "\n",
    "    def vectorin_append(self, z):\n",
    "        self.vectorin.append(z)\n",
    "        if len(self.vectorin) > len(self.vectorlstm):\n",
    "            instancelstm = Gates_init(self.coefficient.neurond, self.coefficient.dimensionx)\n",
    "            self.vectorlstm.append(NeuronLstm(self.coefficient, instancelstm))\n",
    "        \n",
    "        length = len(self.vectorin) - 1\n",
    "        if length == 0:\n",
    "            self.vectorlstm[length].forward_pass(z)\n",
    "        else:\n",
    "            neuron_first = self.vectorlstm[length - 1].instance.neuron\n",
    "            houtput_first = self.vectorlstm[length - 1].instance.houtput\n",
    "            self.vectorlstm[length].forward_pass(z, neuron_first, houtput_first)\n"
   ]
  },
  {
   "cell_type": "code",
   "execution_count": 7,
   "metadata": {},
   "outputs": [],
   "source": [
    "class deficit_def:\n",
    "    \"\"\"\n",
    "    Computes square loss with first element of hidden layer array.\n",
    "    \"\"\"\n",
    "    @classmethod\n",
    "    def deficit(self, forecast, true):\n",
    "        return (forecast[0] - true) * (forecast[0] - true)\n",
    "\n",
    "    @classmethod\n",
    "    def end_d(self, forecast, true):\n",
    "        substract = np.zeros_like(forecast)\n",
    "        substract[0] = 2 * (forecast[0] - true)\n",
    "        return substract"
   ]
  },
  {
   "cell_type": "code",
   "execution_count": 8,
   "metadata": {},
   "outputs": [
    {
     "data": {
      "text/plain": [
       "5032"
      ]
     },
     "execution_count": 8,
     "metadata": {},
     "output_type": "execute_result"
    }
   ],
   "source": [
    "#import Apple stock price dataset from Yahoo finance (up to date)\n",
    "apple_stock = pd.read_csv('https://query1.finance.yahoo.com/v7/finance/download/AAPL?period1=974764800&period2=1605916800&interval=1d&events=history&includeAdjustedClose=true', date_parser = True)\n",
    "apple_stock.tail()\n",
    "\n",
    "apple_stock.shape[0]"
   ]
  },
  {
   "cell_type": "code",
   "execution_count": 9,
   "metadata": {},
   "outputs": [
    {
     "data": {
      "text/html": [
       "<div>\n",
       "<style scoped>\n",
       "    .dataframe tbody tr th:only-of-type {\n",
       "        vertical-align: middle;\n",
       "    }\n",
       "\n",
       "    .dataframe tbody tr th {\n",
       "        vertical-align: top;\n",
       "    }\n",
       "\n",
       "    .dataframe thead th {\n",
       "        text-align: right;\n",
       "    }\n",
       "</style>\n",
       "<table border=\"1\" class=\"dataframe\">\n",
       "  <thead>\n",
       "    <tr style=\"text-align: right;\">\n",
       "      <th></th>\n",
       "      <th>Date</th>\n",
       "      <th>Open</th>\n",
       "      <th>High</th>\n",
       "      <th>Low</th>\n",
       "      <th>Close</th>\n",
       "      <th>Adj Close</th>\n",
       "      <th>Volume</th>\n",
       "    </tr>\n",
       "  </thead>\n",
       "  <tbody>\n",
       "    <tr>\n",
       "      <th>0</th>\n",
       "      <td>2000-11-21</td>\n",
       "      <td>0.342634</td>\n",
       "      <td>0.348214</td>\n",
       "      <td>0.334821</td>\n",
       "      <td>0.335938</td>\n",
       "      <td>0.289365</td>\n",
       "      <td>301952000</td>\n",
       "    </tr>\n",
       "    <tr>\n",
       "      <th>1</th>\n",
       "      <td>2000-11-22</td>\n",
       "      <td>0.335938</td>\n",
       "      <td>0.341518</td>\n",
       "      <td>0.328125</td>\n",
       "      <td>0.330357</td>\n",
       "      <td>0.284557</td>\n",
       "      <td>280532000</td>\n",
       "    </tr>\n",
       "    <tr>\n",
       "      <th>2</th>\n",
       "      <td>2000-11-24</td>\n",
       "      <td>0.336775</td>\n",
       "      <td>0.348214</td>\n",
       "      <td>0.335938</td>\n",
       "      <td>0.344866</td>\n",
       "      <td>0.297055</td>\n",
       "      <td>160932800</td>\n",
       "    </tr>\n",
       "    <tr>\n",
       "      <th>3</th>\n",
       "      <td>2000-11-27</td>\n",
       "      <td>0.354911</td>\n",
       "      <td>0.356027</td>\n",
       "      <td>0.330357</td>\n",
       "      <td>0.333705</td>\n",
       "      <td>0.287441</td>\n",
       "      <td>258792800</td>\n",
       "    </tr>\n",
       "    <tr>\n",
       "      <th>4</th>\n",
       "      <td>2000-11-28</td>\n",
       "      <td>0.333705</td>\n",
       "      <td>0.339286</td>\n",
       "      <td>0.320313</td>\n",
       "      <td>0.321987</td>\n",
       "      <td>0.277348</td>\n",
       "      <td>269124800</td>\n",
       "    </tr>\n",
       "  </tbody>\n",
       "</table>\n",
       "</div>"
      ],
      "text/plain": [
       "         Date      Open      High       Low     Close  Adj Close     Volume\n",
       "0  2000-11-21  0.342634  0.348214  0.334821  0.335938   0.289365  301952000\n",
       "1  2000-11-22  0.335938  0.341518  0.328125  0.330357   0.284557  280532000\n",
       "2  2000-11-24  0.336775  0.348214  0.335938  0.344866   0.297055  160932800\n",
       "3  2000-11-27  0.354911  0.356027  0.330357  0.333705   0.287441  258792800\n",
       "4  2000-11-28  0.333705  0.339286  0.320313  0.321987   0.277348  269124800"
      ]
     },
     "execution_count": 9,
     "metadata": {},
     "output_type": "execute_result"
    }
   ],
   "source": [
    "apple_stock.head(5)"
   ]
  },
  {
   "cell_type": "code",
   "execution_count": 11,
   "metadata": {},
   "outputs": [
    {
     "data": {
      "image/png": "[encoded data removed]",
      "text/plain": [
       "<Figure size 720x504 with 1 Axes>"
      ]
     },
     "metadata": {
      "needs_background": "light"
     },
     "output_type": "display_data"
    }
   ],
   "source": [
    "#plot to overview Apple stock close price (11-24-2000 to 11-19-2020)\n",
    "np.random.rand(3)\n",
    "import matplotlib.pyplot as plt\n",
    "\n",
    "plt.figure(figsize = (10,7))\n",
    "plt.plot(range(apple_stock.shape[0]),apple_stock['Close'])\n",
    "plt.xticks(range(0,apple_stock.shape[0],500),apple_stock['Date'].loc[::500],rotation=45)\n",
    "plt.title('Apple Stock Price (11-24-2000 to 11-19-2020)')\n",
    "plt.xlabel('Date',fontsize=16)\n",
    "plt.ylabel('Close Price',fontsize=16)\n",
    "plt.show()\n"
   ]
  },
  {
   "cell_type": "code",
   "execution_count": 12,
   "metadata": {},
   "outputs": [
    {
     "data": {
      "text/html": [
       "<div>\n",
       "<style scoped>\n",
       "    .dataframe tbody tr th:only-of-type {\n",
       "        vertical-align: middle;\n",
       "    }\n",
       "\n",
       "    .dataframe tbody tr th {\n",
       "        vertical-align: top;\n",
       "    }\n",
       "\n",
       "    .dataframe thead th {\n",
       "        text-align: right;\n",
       "    }\n",
       "</style>\n",
       "<table border=\"1\" class=\"dataframe\">\n",
       "  <thead>\n",
       "    <tr style=\"text-align: right;\">\n",
       "      <th></th>\n",
       "      <th>Open</th>\n",
       "      <th>High</th>\n",
       "      <th>Low</th>\n",
       "      <th>Close</th>\n",
       "      <th>Volume</th>\n",
       "    </tr>\n",
       "  </thead>\n",
       "  <tbody>\n",
       "    <tr>\n",
       "      <th>0</th>\n",
       "      <td>0.342634</td>\n",
       "      <td>0.348214</td>\n",
       "      <td>0.334821</td>\n",
       "      <td>0.335938</td>\n",
       "      <td>301952000</td>\n",
       "    </tr>\n",
       "    <tr>\n",
       "      <th>1</th>\n",
       "      <td>0.335938</td>\n",
       "      <td>0.341518</td>\n",
       "      <td>0.328125</td>\n",
       "      <td>0.330357</td>\n",
       "      <td>280532000</td>\n",
       "    </tr>\n",
       "    <tr>\n",
       "      <th>2</th>\n",
       "      <td>0.336775</td>\n",
       "      <td>0.348214</td>\n",
       "      <td>0.335938</td>\n",
       "      <td>0.344866</td>\n",
       "      <td>160932800</td>\n",
       "    </tr>\n",
       "    <tr>\n",
       "      <th>3</th>\n",
       "      <td>0.354911</td>\n",
       "      <td>0.356027</td>\n",
       "      <td>0.330357</td>\n",
       "      <td>0.333705</td>\n",
       "      <td>258792800</td>\n",
       "    </tr>\n",
       "    <tr>\n",
       "      <th>4</th>\n",
       "      <td>0.333705</td>\n",
       "      <td>0.339286</td>\n",
       "      <td>0.320313</td>\n",
       "      <td>0.321987</td>\n",
       "      <td>269124800</td>\n",
       "    </tr>\n",
       "  </tbody>\n",
       "</table>\n",
       "</div>"
      ],
      "text/plain": [
       "       Open      High       Low     Close     Volume\n",
       "0  0.342634  0.348214  0.334821  0.335938  301952000\n",
       "1  0.335938  0.341518  0.328125  0.330357  280532000\n",
       "2  0.336775  0.348214  0.335938  0.344866  160932800\n",
       "3  0.354911  0.356027  0.330357  0.333705  258792800\n",
       "4  0.333705  0.339286  0.320313  0.321987  269124800"
      ]
     },
     "execution_count": 12,
     "metadata": {},
     "output_type": "execute_result"
    }
   ],
   "source": [
    "#prepare training data\n",
    "appletrain = apple_stock[apple_stock['Date']<'2018-01-01'].copy()\n",
    "appletrain\n",
    "\n",
    "apple_stock_test = apple_stock[(apple_stock['Date']>='2018-01-01') & (apple_stock['Date']<='2020-11-19')].copy()\n",
    "apple_stock_test\n",
    "\n",
    "#remove the unused features\n",
    "trainapple = appletrain.drop(['Date', 'Adj Close'], axis = 1)\n",
    "trainapple.head()"
   ]
  },
  {
   "cell_type": "code",
   "execution_count": 13,
   "metadata": {},
   "outputs": [],
   "source": [
    "#standardize the trainning data by MinMaxScaler \n",
    "scaler = MinMaxScaler()\n",
    "trainapple= scaler.fit_transform(trainapple)\n",
    "trainapple\n",
    "\n",
    "#create a list for trainingx and trainingy respectively\n",
    "trainingx = []\n",
    "trainingy = []"
   ]
  },
  {
   "cell_type": "code",
   "execution_count": 15,
   "metadata": {},
   "outputs": [
    {
     "name": "stdout",
     "output_type": "stream",
     "text": [
      "Please enter the time steps: 10\n",
      "Please enter the dimensions: 100\n",
      "Please enter epoch  number : 20\n",
      "Please enter the learning rate: 0.01\n"
     ]
    }
   ],
   "source": [
    "#promote user input parameters\n",
    "timesteps = int(input(\"Please enter the time steps: \"))\n",
    "neurond = int(input(\"Please enter the dimensions: \")) # the dimension of output(h)\n",
    "numberofepoch = int(input(\"Please enter epoch  number : \"))\n",
    "alpha = float(input(\"Please enter the learning rate: \"))"
   ]
  },
  {
   "cell_type": "code",
   "execution_count": 16,
   "metadata": {},
   "outputs": [],
   "source": [
    "for j in range(timesteps, trainapple.shape[0]):\n",
    "  trainingx.append(trainapple[j-timesteps:j])\n",
    "  trainingy.append(trainapple[j-timesteps+1:j+1, 0])"
   ]
  },
  {
   "cell_type": "code",
   "execution_count": 17,
   "metadata": {},
   "outputs": [
    {
     "data": {
      "text/plain": [
       "((4293, 10, 5), (4293, 10))"
      ]
     },
     "execution_count": 17,
     "metadata": {},
     "output_type": "execute_result"
    }
   ],
   "source": [
    "#transform trainingx, trainingy  into numpy array\n",
    "trainingx, trainingy = np.array(trainingx), np.array(trainingy)\n",
    "trainingx.shape, trainingy.shape"
   ]
  },
  {
   "cell_type": "code",
   "execution_count": 18,
   "metadata": {},
   "outputs": [],
   "source": [
    "dimensionx = 5 #the dimension of input\n",
    "coefficient = Weights_init(neurond, dimensionx) #the weights and offset\n",
    "lstm_web = Lstm(coefficient)"
   ]
  },
  {
   "cell_type": "code",
   "execution_count": 19,
   "metadata": {},
   "outputs": [],
   "source": [
    "for epoch in range(1,numberofepoch): #without batch\n",
    "#    print(\"iter\", \"%2s\" % str(epoch), end=\": \")\n",
    "    for cur_iter in range(len(trainingy)): # the number of sample\n",
    "      vectorout = trainingy[cur_iter,]\n",
    "      input_val = trainingx[cur_iter,]\n",
    "      for h in range(len(vectorout)): # number of time step of each sample\n",
    "        lstm_web.vectorin_append(input_val[h]) # calculate all values of forward pass\n",
    "\n",
    "      deficit = lstm_web.deficit_fun(vectorout, deficit_def)\n",
    "#      print(\"loss: \", \"%.3e\" % loss)\n",
    "#     print(\"iters: \", \"%.3e\" % cur_iter)\n",
    "#      print(\"epoch: \", \"%.3e\" % epoch)\n",
    "      coefficient.weight_update(alpha) #use each sample to update weights in backpropagation\n",
    "      lstm_web.vectorin_empty()"
   ]
  },
  {
   "cell_type": "code",
   "execution_count": 20,
   "metadata": {},
   "outputs": [
    {
     "data": {
      "text/plain": [
       "((718, 10, 5), (718, 10))"
      ]
     },
     "execution_count": 20,
     "metadata": {},
     "output_type": "execute_result"
    }
   ],
   "source": [
    "#prepare the test data\n",
    "test_apple_stock = apple_stock_test.drop(['Date', 'Adj Close'], axis = 1)\n",
    "test_apple_stock.head()\n",
    "scaler = MinMaxScaler()\n",
    "test_apple_stock = scaler.fit_transform(test_apple_stock)\n",
    "test_apple_stock\n",
    "testingx = []\n",
    "testingy = []\n",
    "for j in range(timesteps, test_apple_stock.shape[0]):\n",
    "  testingx.append(test_apple_stock[j-timesteps:j])\n",
    "  testingy.append(test_apple_stock[j-timesteps+1:j+1, 0])\n",
    "testingx, testingy = np.array(testingx), np.array(testingy)\n",
    "testingx.shape, testingy.shape"
   ]
  },
  {
   "cell_type": "code",
   "execution_count": 21,
   "metadata": {},
   "outputs": [],
   "source": [
    "#calculate the prediction\n",
    "y_pre = []\n",
    "for cur_iter in range(len(testingy)):\n",
    "    vectorout = testingy[cur_iter,]\n",
    "    input_val = testingx[cur_iter,]\n",
    "    for h in range(len(vectorout)):\n",
    "      lstm_web.vectorin_append(input_val[h])\n",
    "\n",
    "    y_pre.append(lstm_web.vectorlstm[len(vectorout)-1].instance.houtput[0])\n",
    "    lstm_web.vectorin_empty()\n"
   ]
  },
  {
   "cell_type": "code",
   "execution_count": 22,
   "metadata": {},
   "outputs": [],
   "source": [
    "scaler.scale_\n",
    "\n",
    "#get the scale which is used to scale up  forecasty and testingy\n",
    "scale = 1/9.84300438e-03 \n",
    "scale\n",
    "\n",
    "#scale up forecasty and testingy to original $ scale\n",
    "forecasty_scale = [i * scale for i in y_pre ]\n",
    "testingy_scale=testingy[:,timesteps-1]*scale"
   ]
  },
  {
   "cell_type": "code",
   "execution_count": 23,
   "metadata": {},
   "outputs": [
    {
     "data": {
      "image/png": "[encoded data removed]",
      "text/plain": [
       "<Figure size 1224x576 with 1 Axes>"
      ]
     },
     "metadata": {
      "needs_background": "light"
     },
     "output_type": "display_data"
    }
   ],
   "source": [
    "# Visualising the results of predict and actual price\n",
    "plt.figure(figsize=(17,8))\n",
    "plt.plot(testingy_scale, color = 'red', label = 'Actual Price of AAPL')\n",
    "plt.plot(forecasty_scale, color = 'blue', label = 'Predicted Price of AAPL')\n",
    "plt.title('Apple Stock Price Prediction')\n",
    "plt.xlabel('Time (Days)')\n",
    "plt.ylabel('Apple Stock Price (USD)')\n",
    "plt.legend()\n",
    "plt.show()"
   ]
  },
  {
   "cell_type": "code",
   "execution_count": 24,
   "metadata": {},
   "outputs": [
    {
     "name": "stdout",
     "output_type": "stream",
     "text": [
      "\n",
      "RMSE:  13.55251367792292\n"
     ]
    }
   ],
   "source": [
    "#calculate RMSE for the stock price prediction model\n",
    "\n",
    "RMSE=mean_squared_error(testingy_scale, forecasty_scale)\n",
    "print()\n",
    "print(\"RMSE: \", RMSE)"
   ]
  },
  {
   "cell_type": "code",
   "execution_count": null,
   "metadata": {},
   "outputs": [],
   "source": []
  }
 ],
 "metadata": {
  "kernelspec": {
   "display_name": "Python 3",
   "language": "python",
   "name": "python3"
  },
  "language_info": {
   "codemirror_mode": {
    "name": "ipython",
    "version": 3
   },
   "file_extension": ".py",
   "mimetype": "text/x-python",
   "name": "python",
   "nbconvert_exporter": "python",
   "pygments_lexer": "ipython3",
   "version": "3.8.3"
  }
 },
 "nbformat": 4,
 "nbformat_minor": 4
}
